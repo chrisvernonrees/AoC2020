{
 "cells": [
  {
   "cell_type": "code",
   "execution_count": 46,
   "metadata": {},
   "outputs": [],
   "source": [
    "import numpy as np\n",
    "import copy"
   ]
  },
  {
   "cell_type": "code",
   "execution_count": 47,
   "metadata": {},
   "outputs": [],
   "source": [
    "input_vec = []\n",
    "\n",
    "with open(\"day11input.txt\",\"r\") as f:\n",
    "    for line in f:\n",
    "        input_vec.append(list(line.rstrip()))"
   ]
  },
  {
   "cell_type": "code",
   "execution_count": 48,
   "metadata": {},
   "outputs": [],
   "source": [
    "def mat_conv(mat):\n",
    "    \n",
    "    new_mat = []\n",
    "    \n",
    "    for i in range(len(mat)):\n",
    "        \n",
    "        newline = []\n",
    "        line = mat[i]\n",
    "        \n",
    "        for j in range(len(line)):\n",
    "            \n",
    "            seat = line[j]\n",
    "            \n",
    "            if seat == 'L':\n",
    "                x = 1\n",
    "            elif seat == '#':\n",
    "                x = 2\n",
    "            else:\n",
    "                x = 0\n",
    "            \n",
    "            newline.append(x)\n",
    "            \n",
    "        new_mat.append(newline)\n",
    "        \n",
    "    return(new_mat)"
   ]
  },
  {
   "cell_type": "code",
   "execution_count": 49,
   "metadata": {},
   "outputs": [
    {
     "name": "stdout",
     "output_type": "stream",
     "text": [
      "(95, 99)\n",
      "(97, 101)\n",
      "[[0 0 0 ... 0 0 0]\n",
      " [0 1 1 ... 1 1 0]\n",
      " [0 1 1 ... 1 1 0]\n",
      " ...\n",
      " [0 1 1 ... 1 1 0]\n",
      " [0 0 1 ... 1 1 0]\n",
      " [0 0 0 ... 0 0 0]]\n"
     ]
    }
   ],
   "source": [
    "input_mat = mat_conv(input_vec)\n",
    "\n",
    "size = np.shape(input_mat)\n",
    "print(size)\n",
    "\n",
    "scribe_mat = np.zeros([size[0]+2,size[1]+2]).astype(int)\n",
    "print(np.shape(scribe_mat))\n",
    "scribe_mat[1:size[0]+1,1:size[1]+1] = input_mat\n",
    "\n",
    "\n",
    "print(scribe_mat)\n"
   ]
  },
  {
   "cell_type": "code",
   "execution_count": 50,
   "metadata": {},
   "outputs": [],
   "source": [
    " def seats_in_view(search_mat,start_point,dir1,dir2):\n",
    "        \n",
    "        size = np.shape(search_mat)\n",
    "        \n",
    "        row_cord = start_point[0]\n",
    "        col_cord = start_point[1]\n",
    "        \n",
    "        seat = 0\n",
    "        \n",
    "        while (row_cord > 0) and (row_cord < size[0] - 1) and (col_cord > 0) and (col_cord < size[1] - 1):\n",
    "            \n",
    "            row_cord += dir1\n",
    "            col_cord += dir2\n",
    "            \n",
    "            if (search_mat[row_cord,col_cord] != 0):\n",
    "                seat = search_mat[row_cord,col_cord]\n",
    "                break\n",
    "            else:\n",
    "                pass\n",
    "            \n",
    "        \n",
    "        return(seat)\n",
    "    "
   ]
  },
  {
   "cell_type": "code",
   "execution_count": 51,
   "metadata": {},
   "outputs": [
    {
     "name": "stdout",
     "output_type": "stream",
     "text": [
      "1\n"
     ]
    }
   ],
   "source": [
    "print(seats_in_view(scribe_mat,[3,5],-1,0))"
   ]
  },
  {
   "cell_type": "code",
   "execution_count": 52,
   "metadata": {},
   "outputs": [],
   "source": [
    "def seats_in_view_mat(search_mat,start_point):\n",
    "    \n",
    "    output_mat = np.zeros([3,3]).astype(int)\n",
    "    \n",
    "    output_mat[0,0] = seats_in_view(search_mat,start_point,-1,-1)\n",
    "    output_mat[2,2] = seats_in_view(search_mat,start_point,1,1)\n",
    "    output_mat[2,0] = seats_in_view(search_mat,start_point,+1,-1)\n",
    "    output_mat[0,2] = seats_in_view(search_mat,start_point,-1,+1)\n",
    "    output_mat[1,0] = seats_in_view(search_mat,start_point,0,-1)\n",
    "    output_mat[0,1] = seats_in_view(search_mat,start_point,-1,0)\n",
    "    output_mat[2,1] = seats_in_view(search_mat,start_point,+1,0)\n",
    "    output_mat[1,2] = seats_in_view(search_mat,start_point,0,+1)\n",
    "    \n",
    "    return(output_mat)\n",
    "\n",
    "\n",
    "    \n",
    "    \n",
    "    \n",
    "    \n",
    "    \n",
    "    "
   ]
  },
  {
   "cell_type": "code",
   "execution_count": 53,
   "metadata": {},
   "outputs": [
    {
     "name": "stdout",
     "output_type": "stream",
     "text": [
      "[[0 0 0]\n",
      " [1 0 1]\n",
      " [1 1 1]]\n"
     ]
    }
   ],
   "source": [
    "print(seats_in_view_mat(scribe_mat,[1,8]))"
   ]
  },
  {
   "cell_type": "code",
   "execution_count": 54,
   "metadata": {},
   "outputs": [],
   "source": [
    "def surround_count(mat,row,col,target):\n",
    "    surround_mat = seats_in_view_mat(mat,[row,col])\n",
    "    output = sum(sum(surround_mat == target))\n",
    "    return(output)"
   ]
  },
  {
   "cell_type": "code",
   "execution_count": 55,
   "metadata": {},
   "outputs": [],
   "source": [
    "def seat_pass(mat):\n",
    "    \n",
    "    length = np.shape(mat)\n",
    "    new_mat = np.zeros([length[0],length[1]]).astype(int)\n",
    "    \n",
    "    for i in range(length[0]):\n",
    "        \n",
    "        for j in range(length[1]):\n",
    "            \n",
    "            seat_val = mat[i,j]\n",
    "            \n",
    "            if (seat_val == 0):\n",
    "                pass\n",
    "            elif (seat_val == 1):\n",
    "                if (surround_count(mat,i,j,2) == 0):\n",
    "                    new_mat[i,j] = 2\n",
    "                else:\n",
    "                    new_mat[i,j] = 1\n",
    "            elif (seat_val == 2):\n",
    "                if (surround_count(mat,i,j,2) > 4):\n",
    "                    new_mat[i,j] = 1\n",
    "                else:\n",
    "                    new_mat[i,j] = 2\n",
    "        \n",
    "    return(new_mat)"
   ]
  },
  {
   "cell_type": "code",
   "execution_count": 56,
   "metadata": {},
   "outputs": [
    {
     "name": "stdout",
     "output_type": "stream",
     "text": [
      "[[0 0 0 ... 0 0 0]\n",
      " [0 1 1 ... 1 1 0]\n",
      " [0 1 1 ... 1 1 0]\n",
      " ...\n",
      " [0 1 1 ... 1 1 0]\n",
      " [0 0 1 ... 1 1 0]\n",
      " [0 0 0 ... 0 0 0]]\n",
      "[[0 0 0 ... 0 0 0]\n",
      " [0 2 1 ... 1 2 0]\n",
      " [0 1 1 ... 1 1 0]\n",
      " ...\n",
      " [0 2 1 ... 1 1 0]\n",
      " [0 0 2 ... 1 2 0]\n",
      " [0 0 0 ... 0 0 0]]\n"
     ]
    }
   ],
   "source": [
    "test_mat = copy.deepcopy(scribe_mat)\n",
    "passed_mat = seat_pass(test_mat)\n",
    "\n",
    "while (np.array_equal(test_mat,passed_mat) == False):\n",
    "    \n",
    "    test_mat = passed_mat\n",
    "    passed_mat = seat_pass(test_mat)\n",
    "\n",
    "    \n",
    "print(test_mat)"
   ]
  },
  {
   "cell_type": "code",
   "execution_count": 57,
   "metadata": {},
   "outputs": [
    {
     "name": "stdout",
     "output_type": "stream",
     "text": [
      "2174\n"
     ]
    }
   ],
   "source": [
    "print(sum(sum(test_mat == 2)))"
   ]
  },
  {
   "cell_type": "code",
   "execution_count": null,
   "metadata": {},
   "outputs": [],
   "source": []
  }
 ],
 "metadata": {
  "kernelspec": {
   "display_name": "Python 3",
   "language": "python",
   "name": "python3"
  },
  "language_info": {
   "codemirror_mode": {
    "name": "ipython",
    "version": 3
   },
   "file_extension": ".py",
   "mimetype": "text/x-python",
   "name": "python",
   "nbconvert_exporter": "python",
   "pygments_lexer": "ipython3",
   "version": "3.7.3"
  }
 },
 "nbformat": 4,
 "nbformat_minor": 2
}
